{
 "cells": [
  {
   "cell_type": "code",
   "execution_count": 2,
   "metadata": {},
   "outputs": [],
   "source": [
    "import numpy as np\n",
    "from scipy.stats import norm\n",
    "from source.sim import sim\n",
    "from source.scale import scale\n",
    "from scipy import linalg\n",
    "import statsmodels.api as sm\n",
    "import source.BestSubsetReg as BSR"
   ]
  },
  {
   "cell_type": "markdown",
   "metadata": {},
   "source": [
    "### Generate data"
   ]
  },
  {
   "cell_type": "code",
   "execution_count": 69,
   "metadata": {},
   "outputs": [],
   "source": [
    "# training sample\n",
    "n = 1000\n",
    "p = 20\n",
    "rho = 0.75\n",
    "mu = norm.rvs(size=p, scale=1)\n",
    "x = sim(n, p, rho, mu)\n",
    "beta = np.ones(p) * 1\n",
    "y = np.dot(x, beta) + norm.rvs(size=n, scale=5)\n",
    "# testing sample\n",
    "xt = sim(100, p, rho, mu)\n",
    "yt = np.dot(xt, beta)"
   ]
  },
  {
   "cell_type": "markdown",
   "metadata": {},
   "source": [
    "### EVD vs SVD"
   ]
  },
  {
   "cell_type": "code",
   "execution_count": null,
   "metadata": {},
   "outputs": [],
   "source": [
    "x_scale, x_bar, x_std = scale(x)\n",
    "#x_cor = np.dot(x_scale.T, x_scale)/(n - 1)\n",
    "# print(x_cor)\n",
    "#eigva, eigve = linalg.eigh(x_cor)\n",
    "#pc = np.dot(x_scale, eigve[:, ::-1])  #,:15:-1\n",
    "U, s, Vh = linalg.svd(x_scale / np.sqrt(n - 1))\n",
    "pc = np.dot(x_scale, Vh.transpose())  #np.dot(U[:,:p], np.diag(s))*np.sqrt(n-1)"
   ]
  },
  {
   "cell_type": "markdown",
   "metadata": {},
   "source": [
    "### Choose best number of components for regression"
   ]
  },
  {
   "cell_type": "code",
   "execution_count": 172,
   "metadata": {
    "collapsed": true
   },
   "outputs": [
    {
     "name": "stdout",
     "output_type": "stream",
     "text": [
      "Cp：\n",
      "Variable： [ True  True  True  True  True  True False False False False False False\n",
      " False False False False False False False False False]\n",
      "Coefficient： [6.77388712 4.40131446 0.08733583 1.02352464 0.19825731 0.59996989]\n"
     ]
    },
    {
     "data": {
      "text/plain": [
       "5"
      ]
     },
     "execution_count": 172,
     "metadata": {},
     "output_type": "execute_result"
    }
   ],
   "source": [
    "B = BSR.BestSubsetReg(x=pc,\n",
    "                      y=y,\n",
    "                      isCp=True,\n",
    "                      isAIC=False,\n",
    "                      isCV=False,\n",
    "                      inter=True)\n",
    "B.output()\n",
    "n_components = B.Cp[1].shape[0] - 1\n",
    "n_components"
   ]
  },
  {
   "cell_type": "markdown",
   "metadata": {},
   "source": [
    "### Principal Components Regression vs Linear Regression"
   ]
  },
  {
   "cell_type": "code",
   "execution_count": 121,
   "metadata": {},
   "outputs": [
    {
     "data": {
      "text/plain": [
       "20.227394894434045"
      ]
     },
     "execution_count": 121,
     "metadata": {},
     "output_type": "execute_result"
    }
   ],
   "source": [
    "# PCR\n",
    "xt_scale = (xt - x_bar) / x_std\n",
    "pct = np.dot(xt_scale, Vh.transpose()[:, :n_components])\n",
    "pct = sm.add_constant(pct)\n",
    "np.sum((yt - np.dot(pct, B.Cp[1]))**2)"
   ]
  },
  {
   "cell_type": "code",
   "execution_count": 129,
   "metadata": {},
   "outputs": [
    {
     "data": {
      "text/plain": [
       "65.71703651793698"
      ]
     },
     "execution_count": 129,
     "metadata": {},
     "output_type": "execute_result"
    }
   ],
   "source": [
    "#LR\n",
    "xx = sm.add_constant(x)\n",
    "results = sm.OLS(y, xx).fit()\n",
    "#print(results.summary())\n",
    "xxt = sm.add_constant(xt)\n",
    "np.sum((yt - np.dot(xxt, results.params))**2)"
   ]
  },
  {
   "cell_type": "markdown",
   "metadata": {},
   "source": [
    "### The influnce of standardized y and intercept"
   ]
  },
  {
   "cell_type": "code",
   "execution_count": 173,
   "metadata": {},
   "outputs": [
    {
     "data": {
      "text/plain": [
       "60.91471916027664"
      ]
     },
     "execution_count": 173,
     "metadata": {},
     "output_type": "execute_result"
    }
   ],
   "source": [
    "# y ~ x, add intercept <=> y ~ pc \n",
    "results = sm.OLS(y, x).fit()\n",
    "#print(results.summary())\n",
    "\n",
    "np.sum((yt - np.dot(xt, results.params))**2)"
   ]
  },
  {
   "cell_type": "code",
   "execution_count": 165,
   "metadata": {},
   "outputs": [
    {
     "data": {
      "text/plain": [
       "array([1.14574867, 1.05559618, 0.66555536, 1.12225466, 0.89214845,\n",
       "       1.28204175, 1.0006848 , 0.94889826, 0.77081258, 1.55401097,\n",
       "       0.62638437, 1.43070042, 0.47466695, 0.68155957, 1.07740105,\n",
       "       1.05252074, 1.33408267, 0.80762686, 1.02015193, 1.32943181])"
      ]
     },
     "execution_count": 165,
     "metadata": {},
     "output_type": "execute_result"
    },
    {
     "data": {
      "text/plain": [
       "-7.562838473131173"
      ]
     },
     "execution_count": 165,
     "metadata": {},
     "output_type": "execute_result"
    },
    {
     "data": {
      "text/plain": [
       "6586.805493272989"
      ]
     },
     "execution_count": 165,
     "metadata": {},
     "output_type": "execute_result"
    }
   ],
   "source": [
    "# y ~ standardized x, no intercept <=> y ~ pc\n",
    "results = sm.OLS(y, x_scale).fit()\n",
    "#print(results.summary())\n",
    "pparams = results.params / x_std\n",
    "pparams\n",
    "pp0 = -np.sum(pparams * x_bar)\n",
    "pp0\n",
    "np.sum((yt - np.dot(xt, pparams) + pp0)**2)"
   ]
  },
  {
   "cell_type": "code",
   "execution_count": 171,
   "metadata": {},
   "outputs": [
    {
     "data": {
      "text/plain": [
       "array([1.14574867, 1.05559618, 0.66555536, 1.12225466, 0.89214845,\n",
       "       1.28204175, 1.0006848 , 0.94889826, 0.77081258, 1.55401097,\n",
       "       0.62638437, 1.43070042, 0.47466695, 0.68155957, 1.07740105,\n",
       "       1.05252074, 1.33408267, 0.80762686, 1.02015193, 1.32943181])"
      ]
     },
     "execution_count": 171,
     "metadata": {},
     "output_type": "execute_result"
    },
    {
     "data": {
      "text/plain": [
       "-0.7889513531095362"
      ]
     },
     "execution_count": 171,
     "metadata": {},
     "output_type": "execute_result"
    },
    {
     "data": {
      "text/plain": [
       "228.89205845543808"
      ]
     },
     "execution_count": 171,
     "metadata": {},
     "output_type": "execute_result"
    }
   ],
   "source": [
    "# y ~ standardized x, add intercept\n",
    "xx = sm.add_constant(x_scale)\n",
    "results = sm.OLS(y, xx).fit()\n",
    "#print(results.summary())\n",
    "pparams = results.params[1:] / x_std\n",
    "pparams\n",
    "pp0 = results.params[0] - np.sum(pparams * x_bar)\n",
    "pp0\n",
    "np.sum((yt - np.dot(xt, pparams) + pp0)**2)"
   ]
  },
  {
   "cell_type": "code",
   "execution_count": 168,
   "metadata": {},
   "outputs": [
    {
     "data": {
      "text/plain": [
       "array([1.14574867, 1.05559618, 0.66555536, 1.12225466, 0.89214845,\n",
       "       1.28204175, 1.0006848 , 0.94889826, 0.77081258, 1.55401097,\n",
       "       0.62638437, 1.43070042, 0.47466695, 0.68155957, 1.07740105,\n",
       "       1.05252074, 1.33408267, 0.80762686, 1.02015193, 1.32943181])"
      ]
     },
     "execution_count": 168,
     "metadata": {},
     "output_type": "execute_result"
    },
    {
     "data": {
      "text/plain": [
       "-0.7889513531095371"
      ]
     },
     "execution_count": 168,
     "metadata": {},
     "output_type": "execute_result"
    },
    {
     "data": {
      "text/plain": [
       "228.8920584554388"
      ]
     },
     "execution_count": 168,
     "metadata": {},
     "output_type": "execute_result"
    }
   ],
   "source": [
    "# standardized y ~ standardized x, no intercept\n",
    "y_scale, y_bar, y_std = scale(y)\n",
    "results = sm.OLS(y_scale, x_scale).fit()\n",
    "#print(results.summary())\n",
    "pparams = results.params / x_std * y_std\n",
    "pparams\n",
    "pp0 = y_bar - np.sum(pparams * x_bar)\n",
    "pp0\n",
    "np.sum((yt - np.dot(xt, pparams) + pp0)**2)"
   ]
  }
 ],
 "metadata": {
  "kernelspec": {
   "display_name": "Python 3",
   "language": "python",
   "name": "python3"
  },
  "language_info": {
   "codemirror_mode": {
    "name": "ipython",
    "version": 3
   },
   "file_extension": ".py",
   "mimetype": "text/x-python",
   "name": "python",
   "nbconvert_exporter": "python",
   "pygments_lexer": "ipython3",
   "version": "3.7.0"
  },
  "varInspector": {
   "cols": {
    "lenName": 16,
    "lenType": 16,
    "lenVar": 40
   },
   "kernels_config": {
    "python": {
     "delete_cmd_postfix": "",
     "delete_cmd_prefix": "del ",
     "library": "var_list.py",
     "varRefreshCmd": "print(var_dic_list())"
    },
    "r": {
     "delete_cmd_postfix": ") ",
     "delete_cmd_prefix": "rm(",
     "library": "var_list.r",
     "varRefreshCmd": "cat(var_dic_list()) "
    }
   },
   "types_to_exclude": [
    "module",
    "function",
    "builtin_function_or_method",
    "instance",
    "_Feature"
   ],
   "window_display": false
  }
 },
 "nbformat": 4,
 "nbformat_minor": 2
}
